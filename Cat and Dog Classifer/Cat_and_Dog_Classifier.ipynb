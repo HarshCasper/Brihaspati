{
  "nbformat": 4,
  "nbformat_minor": 0,
  "metadata": {
    "colab": {
      "name": "Cat and Dog Classifier.ipynb",
      "provenance": [],
      "authorship_tag": "ABX9TyOkWmKyjxNunCMGe559gxzQ",
      "include_colab_link": true
    },
    "kernelspec": {
      "name": "python3",
      "display_name": "Python 3"
    }
  },
  "cells": [
    {
      "cell_type": "markdown",
      "metadata": {
        "id": "view-in-github",
        "colab_type": "text"
      },
      "source": [
        "<a href=\"https://colab.research.google.com/github/HarshCasper/Brihaspati/blob/master/Cat%20and%20Dog%20Classifer/Cat_and_Dog_Classifier.ipynb\" target=\"_parent\"><img src=\"https://colab.research.google.com/assets/colab-badge.svg\" alt=\"Open In Colab\"/></a>"
      ]
    },
    {
      "cell_type": "code",
      "metadata": {
        "id": "Kv8mzRukYCsf",
        "colab_type": "code",
        "colab": {
          "base_uri": "https://localhost:8080/",
          "height": 202
        },
        "outputId": "ad802ddf-89ca-401a-bb72-0acc7fb7813a"
      },
      "source": [
        "!wget --no-check-certificate \\\n",
        "  https://storage.googleapis.com/mledu-datasets/cats_and_dogs_filtered.zip \\\n",
        "  -O /tmp/cats_and_dogs_filtered.zip"
      ],
      "execution_count": 2,
      "outputs": [
        {
          "output_type": "stream",
          "text": [
            "--2020-03-30 12:20:53--  https://storage.googleapis.com/mledu-datasets/cats_and_dogs_filtered.zip\n",
            "Resolving storage.googleapis.com (storage.googleapis.com)... 173.194.215.128, 2607:f8b0:400c:c10::80\n",
            "Connecting to storage.googleapis.com (storage.googleapis.com)|173.194.215.128|:443... connected.\n",
            "HTTP request sent, awaiting response... 200 OK\n",
            "Length: 68606236 (65M) [application/zip]\n",
            "Saving to: ‘/tmp/cats_and_dogs_filtered.zip’\n",
            "\n",
            "\r          /tmp/cats   0%[                    ]       0  --.-KB/s               \r         /tmp/cats_  48%[========>           ]  32.01M   154MB/s               \r/tmp/cats_and_dogs_ 100%[===================>]  65.43M   182MB/s    in 0.4s    \n",
            "\n",
            "2020-03-30 12:20:54 (182 MB/s) - ‘/tmp/cats_and_dogs_filtered.zip’ saved [68606236/68606236]\n",
            "\n"
          ],
          "name": "stdout"
        }
      ]
    },
    {
      "cell_type": "code",
      "metadata": {
        "id": "fgXchXNRYFYM",
        "colab_type": "code",
        "colab": {
          "base_uri": "https://localhost:8080/",
          "height": 34
        },
        "outputId": "38e92ac9-34d1-4825-a4c2-2a509df59eb2"
      },
      "source": [
        "import os\n",
        "import zipfile\n",
        "\n",
        "local_zip='/tmp/cats_and_dogs_filtered.zip'\n",
        "zip_ref=zipfile.ZipFile(local_zip,'r')\n",
        "zip_ref.extractall('/tmp')\n",
        "zip_ref.close()\n",
        "os.listdir('/tmp')"
      ],
      "execution_count": 3,
      "outputs": [
        {
          "output_type": "execute_result",
          "data": {
            "text/plain": [
              "['cats_and_dogs_filtered.zip', '__pycache__', 'cats_and_dogs_filtered']"
            ]
          },
          "metadata": {
            "tags": []
          },
          "execution_count": 3
        }
      ]
    },
    {
      "cell_type": "code",
      "metadata": {
        "id": "tYv9QiWdYMLC",
        "colab_type": "code",
        "colab": {}
      },
      "source": [
        "base_dir='/tmp/cats_and_dogs_filtered'\n",
        "\n",
        "#training and validation directory\n",
        "train_dir=os.path.join(base_dir,'train')\n",
        "validation_dir=os.path.join(base_dir,'validation')\n",
        "\n",
        "#training directory\n",
        "train_cats_dir=os.path.join(train_dir,'cats')\n",
        "train_dogs_dir=os.path.join(train_dir,'dogs')\n",
        "\n",
        "#validation directory\n",
        "validation_cats_dir = os.path.join(validation_dir, 'cats')\n",
        "validation_dogs_dir = os.path.join(validation_dir, 'dogs')"
      ],
      "execution_count": 0,
      "outputs": []
    },
    {
      "cell_type": "code",
      "metadata": {
        "id": "F8Vc89m0YOdE",
        "colab_type": "code",
        "colab": {
          "base_uri": "https://localhost:8080/",
          "height": 118
        },
        "outputId": "a3884a42-a6f8-43b9-8fd7-23c9fd63de4f"
      },
      "source": [
        "train_cat_fnames=os.listdir(train_cats_dir)\n",
        "train_dog_fnames=os.listdir(train_dogs_dir)\n",
        "\n",
        "print(train_cat_fnames[:10])\n",
        "print(train_dog_fnames[:10])\n",
        "\n",
        "\n",
        "print('Total training cat images.   ',len(os.listdir(train_cats_dir)))\n",
        "print('Total training dog images.   ',len(os.listdir(train_dogs_dir)))\n",
        "\n",
        "print('Total Validation cat images.   ',len(os.listdir(validation_cats_dir)))\n",
        "print('Total Validation dog images.   ',len(os.listdir(validation_dogs_dir)))"
      ],
      "execution_count": 5,
      "outputs": [
        {
          "output_type": "stream",
          "text": [
            "['cat.812.jpg', 'cat.678.jpg', 'cat.788.jpg', 'cat.665.jpg', 'cat.379.jpg', 'cat.994.jpg', 'cat.950.jpg', 'cat.825.jpg', 'cat.835.jpg', 'cat.484.jpg']\n",
            "['dog.945.jpg', 'dog.489.jpg', 'dog.278.jpg', 'dog.382.jpg', 'dog.578.jpg', 'dog.573.jpg', 'dog.379.jpg', 'dog.689.jpg', 'dog.615.jpg', 'dog.664.jpg']\n",
            "Total training cat images.    1000\n",
            "Total training dog images.    1000\n",
            "Total Validation cat images.    500\n",
            "Total Validation dog images.    500\n"
          ],
          "name": "stdout"
        }
      ]
    },
    {
      "cell_type": "code",
      "metadata": {
        "id": "YkpMbe7ZYQbX",
        "colab_type": "code",
        "colab": {}
      },
      "source": [
        "import tensorflow as tf\n",
        "model = tf.keras.models.Sequential([\n",
        "    # Note the input shape is the desired size of the image 150x150 with 3 bytes color\n",
        "    tf.keras.layers.Conv2D(16, (3,3), activation='relu', input_shape=(150, 150, 3)),\n",
        "    tf.keras.layers.MaxPooling2D(2,2),\n",
        "    tf.keras.layers.Conv2D(32, (3,3), activation='relu'),\n",
        "    tf.keras.layers.MaxPooling2D(2,2), \n",
        "    tf.keras.layers.Conv2D(64, (3,3), activation='relu'), \n",
        "    tf.keras.layers.MaxPooling2D(2,2),\n",
        "    # Flatten the results to feed into a DNN\n",
        "    tf.keras.layers.Flatten(), \n",
        "    # 512 neuron hidden layer\n",
        "    tf.keras.layers.Dense(512, activation='relu'), \n",
        "    # Only 1 output neuron. It will contain a value from 0-1 where 0 for 1 class ('cats') and 1 for the other ('dogs')\n",
        "    tf.keras.layers.Dense(1, activation='sigmoid')  \n",
        "])"
      ],
      "execution_count": 0,
      "outputs": []
    },
    {
      "cell_type": "code",
      "metadata": {
        "id": "ZLgmOv37YSaD",
        "colab_type": "code",
        "colab": {
          "base_uri": "https://localhost:8080/",
          "height": 454
        },
        "outputId": "aa370c16-8ebb-489f-bc2a-a9212a2ae373"
      },
      "source": [
        "model.summary()"
      ],
      "execution_count": 7,
      "outputs": [
        {
          "output_type": "stream",
          "text": [
            "Model: \"sequential\"\n",
            "_________________________________________________________________\n",
            "Layer (type)                 Output Shape              Param #   \n",
            "=================================================================\n",
            "conv2d (Conv2D)              (None, 148, 148, 16)      448       \n",
            "_________________________________________________________________\n",
            "max_pooling2d (MaxPooling2D) (None, 74, 74, 16)        0         \n",
            "_________________________________________________________________\n",
            "conv2d_1 (Conv2D)            (None, 72, 72, 32)        4640      \n",
            "_________________________________________________________________\n",
            "max_pooling2d_1 (MaxPooling2 (None, 36, 36, 32)        0         \n",
            "_________________________________________________________________\n",
            "conv2d_2 (Conv2D)            (None, 34, 34, 64)        18496     \n",
            "_________________________________________________________________\n",
            "max_pooling2d_2 (MaxPooling2 (None, 17, 17, 64)        0         \n",
            "_________________________________________________________________\n",
            "flatten (Flatten)            (None, 18496)             0         \n",
            "_________________________________________________________________\n",
            "dense (Dense)                (None, 512)               9470464   \n",
            "_________________________________________________________________\n",
            "dense_1 (Dense)              (None, 1)                 513       \n",
            "=================================================================\n",
            "Total params: 9,494,561\n",
            "Trainable params: 9,494,561\n",
            "Non-trainable params: 0\n",
            "_________________________________________________________________\n"
          ],
          "name": "stdout"
        }
      ]
    },
    {
      "cell_type": "code",
      "metadata": {
        "id": "NoaMXN_1YYH5",
        "colab_type": "code",
        "colab": {}
      },
      "source": [
        "from tensorflow.keras.optimizers import RMSprop\n",
        "\n",
        "model.compile(optimizer=RMSprop(lr=0.001),\n",
        "              loss='binary_crossentropy',\n",
        "              metrics = ['acc'])"
      ],
      "execution_count": 0,
      "outputs": []
    },
    {
      "cell_type": "code",
      "metadata": {
        "id": "9_UA61mQYaFC",
        "colab_type": "code",
        "colab": {
          "base_uri": "https://localhost:8080/",
          "height": 50
        },
        "outputId": "c9ebd165-7918-4b98-b315-f5660a20f537"
      },
      "source": [
        "from tensorflow.keras.preprocessing.image import ImageDataGenerator\n",
        "\n",
        "# All images will be rescaled here\n",
        "train_datagen = ImageDataGenerator( rescale = 1.0/255. )\n",
        "test_datagen  = ImageDataGenerator( rescale = 1.0/255. )\n",
        "\n",
        "train_generator = train_datagen.flow_from_directory(train_dir,\n",
        "                                                    batch_size=20,\n",
        "                                                    class_mode='binary',\n",
        "                                                    target_size=(150, 150))     \n",
        "\n",
        "validation_generator =  test_datagen.flow_from_directory(validation_dir,\n",
        "                                                         batch_size=20,\n",
        "                                                         class_mode  = 'binary',\n",
        "                                                         target_size = (150, 150))"
      ],
      "execution_count": 9,
      "outputs": [
        {
          "output_type": "stream",
          "text": [
            "Found 2000 images belonging to 2 classes.\n",
            "Found 1000 images belonging to 2 classes.\n"
          ],
          "name": "stdout"
        }
      ]
    },
    {
      "cell_type": "code",
      "metadata": {
        "id": "oKAl7hOoYcPQ",
        "colab_type": "code",
        "colab": {
          "base_uri": "https://localhost:8080/",
          "height": 1000
        },
        "outputId": "399cd451-78da-415b-97ac-52f7dde488ee"
      },
      "source": [
        "history = model.fit_generator(train_generator,\n",
        "                              validation_data=validation_generator,\n",
        "                              steps_per_epoch=10,\n",
        "                              epochs=50,\n",
        "                              validation_steps=50,\n",
        "                              verbose=2)"
      ],
      "execution_count": 10,
      "outputs": [
        {
          "output_type": "stream",
          "text": [
            "WARNING:tensorflow:From <ipython-input-10-b937fd604f89>:6: Model.fit_generator (from tensorflow.python.keras.engine.training) is deprecated and will be removed in a future version.\n",
            "Instructions for updating:\n",
            "Please use Model.fit, which supports generators.\n",
            "Epoch 1/50\n",
            "10/10 - 13s - loss: 2.3858 - acc: 0.4650 - val_loss: 0.6928 - val_acc: 0.5050\n",
            "Epoch 2/50\n",
            "10/10 - 13s - loss: 0.7460 - acc: 0.5550 - val_loss: 0.6930 - val_acc: 0.5010\n",
            "Epoch 3/50\n",
            "10/10 - 13s - loss: 0.7090 - acc: 0.5300 - val_loss: 0.6859 - val_acc: 0.5080\n",
            "Epoch 4/50\n",
            "10/10 - 13s - loss: 0.6907 - acc: 0.5600 - val_loss: 0.6776 - val_acc: 0.6080\n",
            "Epoch 5/50\n",
            "10/10 - 13s - loss: 0.6934 - acc: 0.5600 - val_loss: 0.6672 - val_acc: 0.6270\n",
            "Epoch 6/50\n",
            "10/10 - 13s - loss: 0.7700 - acc: 0.5350 - val_loss: 0.6790 - val_acc: 0.5890\n",
            "Epoch 7/50\n",
            "10/10 - 13s - loss: 0.6823 - acc: 0.6000 - val_loss: 0.6641 - val_acc: 0.5830\n",
            "Epoch 8/50\n",
            "10/10 - 13s - loss: 0.7043 - acc: 0.6250 - val_loss: 0.6651 - val_acc: 0.5760\n",
            "Epoch 9/50\n",
            "10/10 - 13s - loss: 0.6824 - acc: 0.5550 - val_loss: 0.6740 - val_acc: 0.5760\n",
            "Epoch 10/50\n",
            "10/10 - 13s - loss: 0.7719 - acc: 0.5850 - val_loss: 0.6584 - val_acc: 0.6380\n",
            "Epoch 11/50\n",
            "10/10 - 13s - loss: 0.7242 - acc: 0.5950 - val_loss: 0.7303 - val_acc: 0.5400\n",
            "Epoch 12/50\n",
            "10/10 - 13s - loss: 0.7616 - acc: 0.6050 - val_loss: 0.7092 - val_acc: 0.5610\n",
            "Epoch 13/50\n",
            "10/10 - 13s - loss: 0.6810 - acc: 0.6350 - val_loss: 0.6670 - val_acc: 0.5900\n",
            "Epoch 14/50\n",
            "10/10 - 13s - loss: 0.6407 - acc: 0.6850 - val_loss: 0.6494 - val_acc: 0.6560\n",
            "Epoch 15/50\n",
            "10/10 - 13s - loss: 0.7970 - acc: 0.6200 - val_loss: 0.6626 - val_acc: 0.5890\n",
            "Epoch 16/50\n",
            "10/10 - 13s - loss: 0.6429 - acc: 0.6450 - val_loss: 0.6417 - val_acc: 0.6730\n",
            "Epoch 17/50\n",
            "10/10 - 13s - loss: 0.6327 - acc: 0.6450 - val_loss: 1.3720 - val_acc: 0.4940\n",
            "Epoch 18/50\n",
            "10/10 - 13s - loss: 0.7020 - acc: 0.6600 - val_loss: 0.6383 - val_acc: 0.6730\n",
            "Epoch 19/50\n",
            "10/10 - 13s - loss: 0.6562 - acc: 0.6700 - val_loss: 0.6732 - val_acc: 0.5840\n",
            "Epoch 20/50\n",
            "10/10 - 13s - loss: 0.6498 - acc: 0.6500 - val_loss: 0.6159 - val_acc: 0.6510\n",
            "Epoch 21/50\n",
            "10/10 - 13s - loss: 0.5782 - acc: 0.7000 - val_loss: 0.6422 - val_acc: 0.6520\n",
            "Epoch 22/50\n",
            "10/10 - 13s - loss: 0.6285 - acc: 0.6700 - val_loss: 0.6313 - val_acc: 0.6390\n",
            "Epoch 23/50\n",
            "10/10 - 13s - loss: 0.5578 - acc: 0.7150 - val_loss: 0.6475 - val_acc: 0.6640\n",
            "Epoch 24/50\n",
            "10/10 - 13s - loss: 0.6051 - acc: 0.6650 - val_loss: 0.6113 - val_acc: 0.6970\n",
            "Epoch 25/50\n",
            "10/10 - 13s - loss: 0.5753 - acc: 0.7400 - val_loss: 0.6121 - val_acc: 0.6860\n",
            "Epoch 26/50\n",
            "10/10 - 13s - loss: 0.6047 - acc: 0.6650 - val_loss: 0.6245 - val_acc: 0.6550\n",
            "Epoch 27/50\n",
            "10/10 - 13s - loss: 0.5176 - acc: 0.7600 - val_loss: 1.3945 - val_acc: 0.5290\n",
            "Epoch 28/50\n",
            "10/10 - 13s - loss: 0.7257 - acc: 0.6700 - val_loss: 0.6398 - val_acc: 0.6490\n",
            "Epoch 29/50\n",
            "10/10 - 13s - loss: 0.5294 - acc: 0.7500 - val_loss: 0.5938 - val_acc: 0.7050\n",
            "Epoch 30/50\n",
            "10/10 - 13s - loss: 0.6314 - acc: 0.6700 - val_loss: 0.6092 - val_acc: 0.6900\n",
            "Epoch 31/50\n",
            "10/10 - 13s - loss: 0.5090 - acc: 0.8050 - val_loss: 0.6284 - val_acc: 0.6660\n",
            "Epoch 32/50\n",
            "10/10 - 13s - loss: 0.5178 - acc: 0.7550 - val_loss: 0.6115 - val_acc: 0.6890\n",
            "Epoch 33/50\n",
            "10/10 - 13s - loss: 0.5720 - acc: 0.7450 - val_loss: 0.7758 - val_acc: 0.5620\n",
            "Epoch 34/50\n",
            "10/10 - 13s - loss: 0.5673 - acc: 0.7350 - val_loss: 0.6226 - val_acc: 0.6570\n",
            "Epoch 35/50\n",
            "10/10 - 13s - loss: 0.4722 - acc: 0.8150 - val_loss: 0.5961 - val_acc: 0.7080\n",
            "Epoch 36/50\n",
            "10/10 - 13s - loss: 0.4839 - acc: 0.7950 - val_loss: 0.6359 - val_acc: 0.6790\n",
            "Epoch 37/50\n",
            "10/10 - 13s - loss: 0.6337 - acc: 0.7200 - val_loss: 0.6266 - val_acc: 0.6680\n",
            "Epoch 38/50\n",
            "10/10 - 13s - loss: 0.4674 - acc: 0.7750 - val_loss: 0.6169 - val_acc: 0.7010\n",
            "Epoch 39/50\n",
            "10/10 - 13s - loss: 0.4817 - acc: 0.7400 - val_loss: 0.6141 - val_acc: 0.6720\n",
            "Epoch 40/50\n",
            "10/10 - 13s - loss: 0.5731 - acc: 0.7600 - val_loss: 0.6003 - val_acc: 0.6770\n",
            "Epoch 41/50\n",
            "10/10 - 13s - loss: 0.3729 - acc: 0.8450 - val_loss: 0.5948 - val_acc: 0.7130\n",
            "Epoch 42/50\n",
            "10/10 - 13s - loss: 0.4028 - acc: 0.8150 - val_loss: 0.6424 - val_acc: 0.6980\n",
            "Epoch 43/50\n",
            "10/10 - 13s - loss: 0.3703 - acc: 0.8050 - val_loss: 0.7489 - val_acc: 0.6480\n",
            "Epoch 44/50\n",
            "10/10 - 13s - loss: 0.3748 - acc: 0.8050 - val_loss: 0.6513 - val_acc: 0.7040\n",
            "Epoch 45/50\n",
            "10/10 - 13s - loss: 0.3517 - acc: 0.8300 - val_loss: 0.6426 - val_acc: 0.7040\n",
            "Epoch 46/50\n",
            "10/10 - 13s - loss: 0.3480 - acc: 0.8500 - val_loss: 0.6978 - val_acc: 0.6790\n",
            "Epoch 47/50\n",
            "10/10 - 13s - loss: 0.3851 - acc: 0.8350 - val_loss: 0.5940 - val_acc: 0.7210\n",
            "Epoch 48/50\n",
            "10/10 - 13s - loss: 0.3711 - acc: 0.8350 - val_loss: 0.6766 - val_acc: 0.7150\n",
            "Epoch 49/50\n",
            "10/10 - 13s - loss: 0.3503 - acc: 0.8600 - val_loss: 0.8068 - val_acc: 0.6650\n",
            "Epoch 50/50\n",
            "10/10 - 13s - loss: 0.4284 - acc: 0.8150 - val_loss: 0.6339 - val_acc: 0.6920\n"
          ],
          "name": "stdout"
        }
      ]
    },
    {
      "cell_type": "code",
      "metadata": {
        "id": "YWpSMHBuYeqH",
        "colab_type": "code",
        "colab": {
          "base_uri": "https://localhost:8080/",
          "height": 562
        },
        "outputId": "aae0e459-6be0-4f14-ebec-030f83701033"
      },
      "source": [
        "#-----------------------------------------------------------\n",
        "# Retrieve a list of list results on training and test data\n",
        "# sets for each training epoch\n",
        "#-----------------------------------------------------------\n",
        "acc      = history.history[     'acc' ]\n",
        "val_acc  = history.history[ 'val_acc' ]\n",
        "loss     = history.history[    'loss' ]\n",
        "val_loss = history.history['val_loss' ]\n",
        "\n",
        "epochs   = range(len(acc)) # Get number of epochs\n",
        "\n",
        "import matplotlib.pyplot as plt\n",
        "# Plot training and validation accuracy per epoch\n",
        "plt.plot  ( epochs,     acc )\n",
        "plt.plot  ( epochs, val_acc )\n",
        "plt.title ('Training and validation accuracy')\n",
        "plt.figure()\n",
        "\n",
        "# Plot training and validation loss per epoch\n",
        "plt.plot  ( epochs,     loss )\n",
        "plt.plot  ( epochs, val_loss )\n",
        "plt.title ('Training and validation loss'   )"
      ],
      "execution_count": 12,
      "outputs": [
        {
          "output_type": "execute_result",
          "data": {
            "text/plain": [
              "Text(0.5, 1.0, 'Training and validation loss')"
            ]
          },
          "metadata": {
            "tags": []
          },
          "execution_count": 12
        },
        {
          "output_type": "display_data",
          "data": {
            "image/png": "[encoded data removed]",
            "text/plain": [
              "<Figure size 432x288 with 1 Axes>"
            ]
          },
          "metadata": {
            "tags": []
          }
        },
        {
          "output_type": "display_data",
          "data": {
            "image/png": "[encoded data removed]",
            "text/plain": [
              "<Figure size 432x288 with 1 Axes>"
            ]
          },
          "metadata": {
            "tags": []
          }
        }
      ]
    },
    {
      "cell_type": "code",
      "metadata": {
        "id": "XWf97MLDYlWZ",
        "colab_type": "code",
        "colab": {}
      },
      "source": [
        ""
      ],
      "execution_count": 0,
      "outputs": []
    }
  ]
}