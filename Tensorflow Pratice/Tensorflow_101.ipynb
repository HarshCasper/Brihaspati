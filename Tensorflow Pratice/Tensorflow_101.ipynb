{
  "nbformat": 4,
  "nbformat_minor": 0,
  "metadata": {
    "colab": {
      "name": "Tensorflow 101.ipynb",
      "provenance": [],
      "collapsed_sections": [],
      "authorship_tag": "ABX9TyNTbWbj6M3aHN8ejpCQZxLo",
      "include_colab_link": true
    },
    "kernelspec": {
      "name": "python3",
      "display_name": "Python 3"
    }
  },
  "cells": [
    {
      "cell_type": "markdown",
      "metadata": {
        "id": "view-in-github",
        "colab_type": "text"
      },
      "source": [
        "<a href=\"https://colab.research.google.com/github/HarshCasper/Brihaspati/blob/master/Tensorflow%20Pratice/Tensorflow_101.ipynb\" target=\"_parent\"><img src=\"https://colab.research.google.com/assets/colab-badge.svg\" alt=\"Open In Colab\"/></a>"
      ]
    },
    {
      "cell_type": "code",
      "metadata": {
        "id": "HZl9giSYcLYr",
        "colab_type": "code",
        "colab": {}
      },
      "source": [
        "import numpy as np\n",
        "import matplotlib.pyplot as plt\n",
        "import tensorflow as tf"
      ],
      "execution_count": 0,
      "outputs": []
    },
    {
      "cell_type": "code",
      "metadata": {
        "id": "mYqQVp8KcR1a",
        "colab_type": "code",
        "colab": {}
      },
      "source": [
        "observations = 1000\n",
        "\n",
        "xs = np.random.uniform(low=-10, high=10, size=(observations,1))\n",
        "zs = np.random.uniform(-10, 10, (observations,1))\n",
        "\n",
        "generated_inputs = np.column_stack((xs,zs))\n",
        "\n",
        "noise = np.random.uniform(-1, 1, (observations,1))\n",
        "\n",
        "generated_targets = 2*xs - 3*zs + 5 + noise\n",
        "\n",
        "np.savez('TF_intro', inputs=generated_inputs, targets=generated_targets)\n"
      ],
      "execution_count": 0,
      "outputs": []
    },
    {
      "cell_type": "code",
      "metadata": {
        "id": "GM3U3BH0cqSG",
        "colab_type": "code",
        "colab": {}
      },
      "source": [
        "training_data = np.load('TF_intro.npz')"
      ],
      "execution_count": 0,
      "outputs": []
    },
    {
      "cell_type": "code",
      "metadata": {
        "id": "FLQAnS13dLbm",
        "colab_type": "code",
        "colab": {
          "base_uri": "https://localhost:8080/",
          "height": 1000
        },
        "outputId": "50228c6c-9659-4a72-c4bf-84b95b1b6404"
      },
      "source": [
        "input_size = 2\n",
        "output_size = 1\n",
        "\n",
        "model = tf.keras.Sequential([\n",
        "                            tf.keras.layers.Dense(output_size,\n",
        "                                                 kernel_initializer=tf.random_uniform_initializer(minval=-0.1, maxval=0.1),\n",
        "                                                 bias_initializer=tf.random_uniform_initializer(minval=-0.1, maxval=0.1)\n",
        "                                                 )\n",
        "                            ])\n",
        "\n",
        "custom_optimizer = tf.keras.optimizers.SGD(learning_rate=0.02)\n",
        "\n",
        "model.compile(optimizer=custom_optimizer, loss='mean_squared_error')\n",
        "\n",
        "model.fit(training_data['inputs'], training_data['targets'], epochs=100, verbose=2)"
      ],
      "execution_count": 15,
      "outputs": [
        {
          "output_type": "stream",
          "text": [
            "Epoch 1/100\n",
            "32/32 - 0s - loss: 22.4810\n",
            "Epoch 2/100\n",
            "32/32 - 0s - loss: 1.1859\n",
            "Epoch 3/100\n",
            "32/32 - 0s - loss: 0.4499\n",
            "Epoch 4/100\n",
            "32/32 - 0s - loss: 0.3855\n",
            "Epoch 5/100\n",
            "32/32 - 0s - loss: 0.4049\n",
            "Epoch 6/100\n",
            "32/32 - 0s - loss: 0.4605\n",
            "Epoch 7/100\n",
            "32/32 - 0s - loss: 0.4123\n",
            "Epoch 8/100\n",
            "32/32 - 0s - loss: 0.3973\n",
            "Epoch 9/100\n",
            "32/32 - 0s - loss: 0.4031\n",
            "Epoch 10/100\n",
            "32/32 - 0s - loss: 0.4190\n",
            "Epoch 11/100\n",
            "32/32 - 0s - loss: 0.3695\n",
            "Epoch 12/100\n",
            "32/32 - 0s - loss: 0.4273\n",
            "Epoch 13/100\n",
            "32/32 - 0s - loss: 0.3778\n",
            "Epoch 14/100\n",
            "32/32 - 0s - loss: 0.4267\n",
            "Epoch 15/100\n",
            "32/32 - 0s - loss: 0.4030\n",
            "Epoch 16/100\n",
            "32/32 - 0s - loss: 0.4844\n",
            "Epoch 17/100\n",
            "32/32 - 0s - loss: 0.3924\n",
            "Epoch 18/100\n",
            "32/32 - 0s - loss: 0.4070\n",
            "Epoch 19/100\n",
            "32/32 - 0s - loss: 0.3885\n",
            "Epoch 20/100\n",
            "32/32 - 0s - loss: 0.4334\n",
            "Epoch 21/100\n",
            "32/32 - 0s - loss: 0.3863\n",
            "Epoch 22/100\n",
            "32/32 - 0s - loss: 0.4057\n",
            "Epoch 23/100\n",
            "32/32 - 0s - loss: 0.4167\n",
            "Epoch 24/100\n",
            "32/32 - 0s - loss: 0.3874\n",
            "Epoch 25/100\n",
            "32/32 - 0s - loss: 0.4050\n",
            "Epoch 26/100\n",
            "32/32 - 0s - loss: 0.4037\n",
            "Epoch 27/100\n",
            "32/32 - 0s - loss: 0.3957\n",
            "Epoch 28/100\n",
            "32/32 - 0s - loss: 0.4661\n",
            "Epoch 29/100\n",
            "32/32 - 0s - loss: 0.4041\n",
            "Epoch 30/100\n",
            "32/32 - 0s - loss: 0.3999\n",
            "Epoch 31/100\n",
            "32/32 - 0s - loss: 0.3944\n",
            "Epoch 32/100\n",
            "32/32 - 0s - loss: 0.3964\n",
            "Epoch 33/100\n",
            "32/32 - 0s - loss: 0.3781\n",
            "Epoch 34/100\n",
            "32/32 - 0s - loss: 0.3858\n",
            "Epoch 35/100\n",
            "32/32 - 0s - loss: 0.4095\n",
            "Epoch 36/100\n",
            "32/32 - 0s - loss: 0.3949\n",
            "Epoch 37/100\n",
            "32/32 - 0s - loss: 0.3715\n",
            "Epoch 38/100\n",
            "32/32 - 0s - loss: 0.3921\n",
            "Epoch 39/100\n",
            "32/32 - 0s - loss: 0.4053\n",
            "Epoch 40/100\n",
            "32/32 - 0s - loss: 0.4768\n",
            "Epoch 41/100\n",
            "32/32 - 0s - loss: 0.3885\n",
            "Epoch 42/100\n",
            "32/32 - 0s - loss: 0.4320\n",
            "Epoch 43/100\n",
            "32/32 - 0s - loss: 0.3744\n",
            "Epoch 44/100\n",
            "32/32 - 0s - loss: 0.3963\n",
            "Epoch 45/100\n",
            "32/32 - 0s - loss: 0.3938\n",
            "Epoch 46/100\n",
            "32/32 - 0s - loss: 0.3914\n",
            "Epoch 47/100\n",
            "32/32 - 0s - loss: 0.3885\n",
            "Epoch 48/100\n",
            "32/32 - 0s - loss: 0.4196\n",
            "Epoch 49/100\n",
            "32/32 - 0s - loss: 0.4235\n",
            "Epoch 50/100\n",
            "32/32 - 0s - loss: 0.4290\n",
            "Epoch 51/100\n",
            "32/32 - 0s - loss: 0.4311\n",
            "Epoch 52/100\n",
            "32/32 - 0s - loss: 0.3813\n",
            "Epoch 53/100\n",
            "32/32 - 0s - loss: 0.3951\n",
            "Epoch 54/100\n",
            "32/32 - 0s - loss: 0.3996\n",
            "Epoch 55/100\n",
            "32/32 - 0s - loss: 0.4176\n",
            "Epoch 56/100\n",
            "32/32 - 0s - loss: 0.4369\n",
            "Epoch 57/100\n",
            "32/32 - 0s - loss: 0.4435\n",
            "Epoch 58/100\n",
            "32/32 - 0s - loss: 0.3877\n",
            "Epoch 59/100\n",
            "32/32 - 0s - loss: 0.3769\n",
            "Epoch 60/100\n",
            "32/32 - 0s - loss: 0.3996\n",
            "Epoch 61/100\n",
            "32/32 - 0s - loss: 0.3992\n",
            "Epoch 62/100\n",
            "32/32 - 0s - loss: 0.4079\n",
            "Epoch 63/100\n",
            "32/32 - 0s - loss: 0.3986\n",
            "Epoch 64/100\n",
            "32/32 - 0s - loss: 0.4176\n",
            "Epoch 65/100\n",
            "32/32 - 0s - loss: 0.4088\n",
            "Epoch 66/100\n",
            "32/32 - 0s - loss: 0.4064\n",
            "Epoch 67/100\n",
            "32/32 - 0s - loss: 0.4234\n",
            "Epoch 68/100\n",
            "32/32 - 0s - loss: 0.3998\n",
            "Epoch 69/100\n",
            "32/32 - 0s - loss: 0.3819\n",
            "Epoch 70/100\n",
            "32/32 - 0s - loss: 0.3802\n",
            "Epoch 71/100\n",
            "32/32 - 0s - loss: 0.3997\n",
            "Epoch 72/100\n",
            "32/32 - 0s - loss: 0.3941\n",
            "Epoch 73/100\n",
            "32/32 - 0s - loss: 0.3991\n",
            "Epoch 74/100\n",
            "32/32 - 0s - loss: 0.4081\n",
            "Epoch 75/100\n",
            "32/32 - 0s - loss: 0.3868\n",
            "Epoch 76/100\n",
            "32/32 - 0s - loss: 0.3991\n",
            "Epoch 77/100\n",
            "32/32 - 0s - loss: 0.3768\n",
            "Epoch 78/100\n",
            "32/32 - 0s - loss: 0.4072\n",
            "Epoch 79/100\n",
            "32/32 - 0s - loss: 0.3678\n",
            "Epoch 80/100\n",
            "32/32 - 0s - loss: 0.3836\n",
            "Epoch 81/100\n",
            "32/32 - 0s - loss: 0.3973\n",
            "Epoch 82/100\n",
            "32/32 - 0s - loss: 0.3826\n",
            "Epoch 83/100\n",
            "32/32 - 0s - loss: 0.4076\n",
            "Epoch 84/100\n",
            "32/32 - 0s - loss: 0.3939\n",
            "Epoch 85/100\n",
            "32/32 - 0s - loss: 0.4097\n",
            "Epoch 86/100\n",
            "32/32 - 0s - loss: 0.4027\n",
            "Epoch 87/100\n",
            "32/32 - 0s - loss: 0.4180\n",
            "Epoch 88/100\n",
            "32/32 - 0s - loss: 0.3778\n",
            "Epoch 89/100\n",
            "32/32 - 0s - loss: 0.3861\n",
            "Epoch 90/100\n",
            "32/32 - 0s - loss: 0.3861\n",
            "Epoch 91/100\n",
            "32/32 - 0s - loss: 0.3800\n",
            "Epoch 92/100\n",
            "32/32 - 0s - loss: 0.3786\n",
            "Epoch 93/100\n",
            "32/32 - 0s - loss: 0.3978\n",
            "Epoch 94/100\n",
            "32/32 - 0s - loss: 0.4124\n",
            "Epoch 95/100\n",
            "32/32 - 0s - loss: 0.4273\n",
            "Epoch 96/100\n",
            "32/32 - 0s - loss: 0.3989\n",
            "Epoch 97/100\n",
            "32/32 - 0s - loss: 0.3992\n",
            "Epoch 98/100\n",
            "32/32 - 0s - loss: 0.3837\n",
            "Epoch 99/100\n",
            "32/32 - 0s - loss: 0.4017\n",
            "Epoch 100/100\n",
            "32/32 - 0s - loss: 0.4275\n"
          ],
          "name": "stdout"
        },
        {
          "output_type": "execute_result",
          "data": {
            "text/plain": [
              "<tensorflow.python.keras.callbacks.History at 0x7f31744641d0>"
            ]
          },
          "metadata": {
            "tags": []
          },
          "execution_count": 15
        }
      ]
    },
    {
      "cell_type": "code",
      "metadata": {
        "id": "dwXrN79DdddU",
        "colab_type": "code",
        "colab": {
          "base_uri": "https://localhost:8080/",
          "height": 50
        },
        "outputId": "f94013a7-39ce-46d9-ac51-c935cda898fe"
      },
      "source": [
        "model.layers[0].get_weights()"
      ],
      "execution_count": 16,
      "outputs": [
        {
          "output_type": "execute_result",
          "data": {
            "text/plain": [
              "[array([[ 1.9901036],\n",
              "        [-3.0931203]], dtype=float32), array([4.9764366], dtype=float32)]"
            ]
          },
          "metadata": {
            "tags": []
          },
          "execution_count": 16
        }
      ]
    },
    {
      "cell_type": "code",
      "metadata": {
        "id": "_XhoBksJeBWW",
        "colab_type": "code",
        "colab": {
          "base_uri": "https://localhost:8080/",
          "height": 50
        },
        "outputId": "168d8678-ab83-4a44-e6dc-6bc52abe2603"
      },
      "source": [
        "weights = model.layers[0].get_weights()[0]\n",
        "weights"
      ],
      "execution_count": 17,
      "outputs": [
        {
          "output_type": "execute_result",
          "data": {
            "text/plain": [
              "array([[ 1.9901036],\n",
              "       [-3.0931203]], dtype=float32)"
            ]
          },
          "metadata": {
            "tags": []
          },
          "execution_count": 17
        }
      ]
    },
    {
      "cell_type": "code",
      "metadata": {
        "id": "GZHUrbr7eKTA",
        "colab_type": "code",
        "colab": {
          "base_uri": "https://localhost:8080/",
          "height": 34
        },
        "outputId": "c1596e40-880d-46a9-e50e-4a85da2bad0f"
      },
      "source": [
        "bias = model.layers[0].get_weights()[1]\n",
        "bias"
      ],
      "execution_count": 18,
      "outputs": [
        {
          "output_type": "execute_result",
          "data": {
            "text/plain": [
              "array([4.9764366], dtype=float32)"
            ]
          },
          "metadata": {
            "tags": []
          },
          "execution_count": 18
        }
      ]
    },
    {
      "cell_type": "code",
      "metadata": {
        "id": "kNOfj5NNmfMm",
        "colab_type": "code",
        "colab": {
          "base_uri": "https://localhost:8080/",
          "height": 279
        },
        "outputId": "07d35afe-edc1-4ea7-a7bf-49008432bfdb"
      },
      "source": [
        "plt.plot(np.squeeze(model.predict_on_batch(training_data['inputs'])), np.squeeze(training_data['targets']))\n",
        "plt.xlabel('outputs')\n",
        "plt.ylabel('targets')\n",
        "plt.show()"
      ],
      "execution_count": 19,
      "outputs": [
        {
          "output_type": "display_data",
          "data": {
            "image/png": "[encoded data removed]",
            "text/plain": [
              "<Figure size 432x288 with 1 Axes>"
            ]
          },
          "metadata": {
            "tags": []
          }
        }
      ]
    },
    {
      "cell_type": "code",
      "metadata": {
        "id": "ccHM3ZFCmm6V",
        "colab_type": "code",
        "colab": {}
      },
      "source": [
        ""
      ],
      "execution_count": 0,
      "outputs": []
    }
  ]
}